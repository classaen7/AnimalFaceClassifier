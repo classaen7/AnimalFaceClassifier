{
  "cells": [
    {
      "cell_type": "code",
      "execution_count": null,
      "metadata": {
        "id": "YXxca9fHojzT",
        "colab": {
          "base_uri": "https://localhost:8080/"
        },
        "outputId": "702817c8-da93-4cdb-f614-bde7969d43b6"
      },
      "outputs": [
        {
          "output_type": "stream",
          "name": "stdout",
          "text": [
            "Mounted at /content/drive\n"
          ]
        }
      ],
      "source": [
        "from google.colab import drive\n",
        "drive.mount('/content/drive')"
      ]
    },
    {
      "cell_type": "code",
      "execution_count": null,
      "metadata": {
        "id": "5Aw8xfOqpN8B"
      },
      "outputs": [],
      "source": [
        "!unzip -qq \"/content/drive/MyDrive/celebimg.zip\""
      ]
    },
    {
      "cell_type": "code",
      "execution_count": null,
      "metadata": {
        "id": "uKdWivg_y7F1"
      },
      "outputs": [],
      "source": [
        "import torch\n",
        "import torch.nn as nn\n",
        "import torch.nn.functional as F\n",
        "import torch.optim as optim\n",
        "import torch.utils.data as data\n",
        "import torchvision\n",
        "import torchvision.transforms as transforms\n",
        "import torchvision.datasets as datasets\n",
        "import torchvision.models as models\n",
        "\n",
        "import matplotlib.pyplot as plt\n",
        "import numpy as np\n",
        "\n",
        "import copy\n",
        "from collections import namedtuple\n",
        "import os\n",
        "import random\n",
        "import time\n",
        "\n",
        "import cv2\n",
        "from torch.utils.data import DataLoader, Dataset\n",
        "from PIL import Image\n",
        "\n",
        "import os"
      ]
    },
    {
      "cell_type": "code",
      "execution_count": null,
      "metadata": {
        "id": "wo_BP0yGh1kJ"
      },
      "outputs": [],
      "source": [
        "label_dict = {\n",
        "    'dog' : 0,\n",
        "    'cat' : 1,\n",
        "    'bear' : 2,\n",
        "    'rabbit' : 3,\n",
        "    'dino' : 4\n",
        "}"
      ]
    },
    {
      "cell_type": "code",
      "execution_count": null,
      "metadata": {
        "id": "76sGQtfFpkP-"
      },
      "outputs": [],
      "source": [
        "#훈련 데이터 테스트 데이터 분할\n",
        "\"\"\"\n",
        "1. 데이터 레이블 -> 파일 위에있는 동물로 레이블하기\n",
        "\"\"\"\n",
        "label_dict = {\n",
        "    'dog' : 0,\n",
        "    'cat' : 1,\n",
        "    'bear' : 2,\n",
        "    'rabbit' : 3,\n",
        "    'dino' : 4\n",
        "}\n",
        "\n",
        "dog_dir = \"/content/faceimage/dog\"\n",
        "cat_dir = \"/content/faceimage/cat\"\n",
        "bear_dir = \"/content/faceimage/bear\"\n",
        "rabbit_dir = \"/content/faceimage/rabbit\"\n",
        "dino_dir = \"/content/faceimage/dino\"\n",
        "\n",
        "dog_images_filepaths = sorted([os.path.join(dog_dir, f) for f in os.listdir(dog_dir)])\n",
        "cat_images_filepaths = sorted([os.path.join(cat_dir, f) for f in os.listdir(cat_dir)])\n",
        "bear_images_filepaths = sorted([os.path.join(bear_dir, f) for f in os.listdir(bear_dir)])\n",
        "rabbit_images_filepaths = sorted([os.path.join(rabbit_dir, f) for f in os.listdir(rabbit_dir)])\n",
        "dino_images_filepaths = sorted([os.path.join(dino_dir, f) for f in os.listdir(dino_dir)])\n",
        "\n",
        "dog_imgs = []\n",
        "cat_imgs = []\n",
        "bear_imgs = []\n",
        "rabbit_imgs = []\n",
        "dino_imgs = []\n",
        "\n",
        "\n",
        "for d in dog_images_filepaths:\n",
        "  dog_imgs+= sorted([os.path.join(d, f) for f in os.listdir(d)])\n",
        "\n",
        "for d in cat_images_filepaths:\n",
        "  cat_imgs+= sorted([os.path.join(d, f) for f in os.listdir(d)])\n",
        "\n",
        "for d in bear_images_filepaths:\n",
        "  bear_imgs+= sorted([os.path.join(d, f) for f in os.listdir(d)])\n",
        "\n",
        "for d in rabbit_images_filepaths:\n",
        "  rabbit_imgs+= sorted([os.path.join(d, f) for f in os.listdir(d)])\n",
        "\n",
        "for d in dino_images_filepaths:\n",
        "  dino_imgs+= sorted([os.path.join(d, f) for f in os.listdir(d)])"
      ]
    },
    {
      "cell_type": "code",
      "execution_count": null,
      "metadata": {
        "id": "eH_9kMP2zD9T"
      },
      "outputs": [],
      "source": [
        "\"\"\"\n",
        "ImageNet 데이터셋의\n",
        "  평균: [0.485, 0.456, 0.406]\n",
        "  표준편차: [0.229, 0.224, 0.225]\n",
        "\"\"\"\n",
        "size = 224\n",
        "mean = (0.485, 0.456, 0.406)\n",
        "std = (0.229, 0.224, 0.225)\n",
        "batch_size = 32\n"
      ]
    },
    {
      "cell_type": "code",
      "execution_count": null,
      "metadata": {
        "id": "iLKwN9RdsFi-"
      },
      "outputs": [],
      "source": [
        "class ImageTransform() :\n",
        "    def __init__(self, resize, mean, std) :\n",
        "        self.data_transform = {\n",
        "            'train' : transforms.Compose([\n",
        "                transforms.RandomResizedCrop(resize, scale=(0.5, 1.0)),\n",
        "                # transforms.RandomRotation(degrees=random.randint(0,180)),\n",
        "                transforms.RandomHorizontalFlip(),\n",
        "                transforms.Resize(resize),\n",
        "                transforms.ToTensor(),\n",
        "                transforms.Normalize(mean, std)\n",
        "            ]),\n",
        "            'val' : transforms.Compose([\n",
        "                transforms.Resize(256),\n",
        "                transforms.CenterCrop(resize),\n",
        "                transforms.ToTensor(),\n",
        "                transforms.Normalize(mean, std)\n",
        "            ])\n",
        "        }\n",
        "\n",
        "    def __call__(self, img, phase) :\n",
        "        return self.data_transform[phase](img)"
      ]
    },
    {
      "cell_type": "code",
      "source": [
        "model = torch.load('/content/resnet18_80per (1).pt')\n",
        "\n",
        "\n",
        "class for_onnx(nn.Module):\n",
        "  def __init__(self, model) :\n",
        "    super().__init__()\n",
        "    self.tf = transforms.Compose([\n",
        "                  transforms.Resize(256),\n",
        "                  transforms.CenterCrop(224),\n",
        "                  transforms.ToTensor(),\n",
        "                  transforms.Normalize((0.485, 0.456, 0.406), (0.229, 0.224, 0.225))\n",
        "              ])\n",
        "    self.model = model\n",
        "\n",
        "  def forward(self, x) :\n",
        "    print(x)\n",
        "    x = self.tf(x)\n",
        "    print(x)\n",
        "    x = model(x)\n",
        "\n",
        "    return x\n",
        "\n",
        "test_model = for_onnx(model)\n"
      ],
      "metadata": {
        "id": "eIqFZS1Bc1T_"
      },
      "execution_count": null,
      "outputs": []
    },
    {
      "cell_type": "code",
      "source": [],
      "metadata": {
        "colab": {
          "base_uri": "https://localhost:8080/",
          "height": 506
        },
        "id": "RXv-Dqq4gB8-",
        "outputId": "a8f886f0-4677-4d09-a4d0-a4977bf6bfff"
      },
      "execution_count": null,
      "outputs": [
        {
          "output_type": "stream",
          "name": "stderr",
          "text": [
            "/usr/local/lib/python3.10/dist-packages/torchvision/models/_utils.py:208: UserWarning: The parameter 'pretrained' is deprecated since 0.13 and may be removed in the future, please use 'weights' instead.\n",
            "  warnings.warn(\n",
            "/usr/local/lib/python3.10/dist-packages/torchvision/models/_utils.py:223: UserWarning: Arguments other than a weight enum or `None` for 'weights' are deprecated since 0.13 and may be removed in the future. The current behavior is equivalent to passing `weights=ResNet18_Weights.IMAGENET1K_V1`. You can also use `weights=ResNet18_Weights.DEFAULT` to get the most up-to-date weights.\n",
            "  warnings.warn(msg)\n",
            "Downloading: \"https://download.pytorch.org/models/resnet18-f37072fd.pth\" to /root/.cache/torch/hub/checkpoints/resnet18-f37072fd.pth\n",
            "100%|██████████| 44.7M/44.7M [00:00<00:00, 352MB/s]\n"
          ]
        },
        {
          "output_type": "error",
          "ename": "RuntimeError",
          "evalue": "ignored",
          "traceback": [
            "\u001b[0;31m---------------------------------------------------------------------------\u001b[0m",
            "\u001b[0;31mRuntimeError\u001b[0m                              Traceback (most recent call last)",
            "\u001b[0;32m<ipython-input-15-4d7a761163a2>\u001b[0m in \u001b[0;36m<cell line: 5>\u001b[0;34m()\u001b[0m\n\u001b[1;32m      3\u001b[0m \u001b[0;34m\u001b[0m\u001b[0m\n\u001b[1;32m      4\u001b[0m \u001b[0mresnet\u001b[0m \u001b[0;34m=\u001b[0m \u001b[0mmodels\u001b[0m\u001b[0;34m.\u001b[0m\u001b[0mresnet18\u001b[0m\u001b[0;34m(\u001b[0m\u001b[0mpretrained\u001b[0m\u001b[0;34m=\u001b[0m\u001b[0;32mTrue\u001b[0m\u001b[0;34m)\u001b[0m\u001b[0;34m\u001b[0m\u001b[0;34m\u001b[0m\u001b[0m\n\u001b[0;32m----> 5\u001b[0;31m \u001b[0mresnet\u001b[0m\u001b[0;34m.\u001b[0m\u001b[0mload_state_dict\u001b[0m\u001b[0;34m(\u001b[0m\u001b[0mtorch\u001b[0m\u001b[0;34m.\u001b[0m\u001b[0mload\u001b[0m\u001b[0;34m(\u001b[0m\u001b[0;34m'/content/resnet18_80per (1).pt'\u001b[0m\u001b[0;34m)\u001b[0m\u001b[0;34m)\u001b[0m\u001b[0;34m\u001b[0m\u001b[0;34m\u001b[0m\u001b[0m\n\u001b[0m",
            "\u001b[0;32m/usr/local/lib/python3.10/dist-packages/torch/nn/modules/module.py\u001b[0m in \u001b[0;36mload_state_dict\u001b[0;34m(self, state_dict, strict)\u001b[0m\n\u001b[1;32m   2039\u001b[0m \u001b[0;34m\u001b[0m\u001b[0m\n\u001b[1;32m   2040\u001b[0m         \u001b[0;32mif\u001b[0m \u001b[0mlen\u001b[0m\u001b[0;34m(\u001b[0m\u001b[0merror_msgs\u001b[0m\u001b[0;34m)\u001b[0m \u001b[0;34m>\u001b[0m \u001b[0;36m0\u001b[0m\u001b[0;34m:\u001b[0m\u001b[0;34m\u001b[0m\u001b[0;34m\u001b[0m\u001b[0m\n\u001b[0;32m-> 2041\u001b[0;31m             raise RuntimeError('Error(s) in loading state_dict for {}:\\n\\t{}'.format(\n\u001b[0m\u001b[1;32m   2042\u001b[0m                                self.__class__.__name__, \"\\n\\t\".join(error_msgs)))\n\u001b[1;32m   2043\u001b[0m         \u001b[0;32mreturn\u001b[0m \u001b[0m_IncompatibleKeys\u001b[0m\u001b[0;34m(\u001b[0m\u001b[0mmissing_keys\u001b[0m\u001b[0;34m,\u001b[0m \u001b[0munexpected_keys\u001b[0m\u001b[0;34m)\u001b[0m\u001b[0;34m\u001b[0m\u001b[0;34m\u001b[0m\u001b[0m\n",
            "\u001b[0;31mRuntimeError\u001b[0m: Error(s) in loading state_dict for ResNet:\n\tsize mismatch for fc.weight: copying a param with shape torch.Size([5, 512]) from checkpoint, the shape in current model is torch.Size([1000, 512]).\n\tsize mismatch for fc.bias: copying a param with shape torch.Size([5]) from checkpoint, the shape in current model is torch.Size([1000])."
          ]
        }
      ]
    },
    {
      "cell_type": "code",
      "source": [
        "tf = transforms.Compose([\n",
        "                  transforms.Resize(256),\n",
        "                  transforms.CenterCrop(224),\n",
        "                  transforms.ToTensor(),\n",
        "                  transforms.Normalize((0.485, 0.456, 0.406), (0.229, 0.224, 0.225))\n",
        "              ])\n",
        "tf(img).shape"
      ],
      "metadata": {
        "colab": {
          "base_uri": "https://localhost:8080/"
        },
        "id": "ekvLo6FmfbF7",
        "outputId": "dad793fb-ea82-4f51-ee19-4cbdfb2dbd6b"
      },
      "execution_count": null,
      "outputs": [
        {
          "output_type": "execute_result",
          "data": {
            "text/plain": [
              "torch.Size([3, 224, 224])"
            ]
          },
          "metadata": {},
          "execution_count": 14
        }
      ]
    },
    {
      "cell_type": "code",
      "source": [
        "img = Image.open('/content/0.png')\n",
        "\n",
        "test_model(img)"
      ],
      "metadata": {
        "colab": {
          "base_uri": "https://localhost:8080/",
          "height": 804
        },
        "id": "2moxUGPRei4H",
        "outputId": "0b64f124-b8e2-460e-f56c-e53e40ad8977"
      },
      "execution_count": null,
      "outputs": [
        {
          "output_type": "stream",
          "name": "stdout",
          "text": [
            "<PIL.PngImagePlugin.PngImageFile image mode=RGB size=256x256 at 0x7FAF819BFF70>\n",
            "tensor([[[ 0.7762,  0.8789,  0.9303,  ..., -1.3644, -1.3987, -1.3987],\n",
            "         [ 0.7762,  0.8447,  0.9303,  ..., -1.4158, -1.3815, -1.3815],\n",
            "         [ 0.8276,  0.8276,  0.8961,  ..., -1.4158, -1.3473, -1.3644],\n",
            "         ...,\n",
            "         [-1.5528, -1.5185, -1.4500,  ..., -1.0733, -1.0219, -1.1247],\n",
            "         [-1.5357, -1.4843, -1.4500,  ..., -1.0562, -0.9705, -1.0562],\n",
            "         [-1.4672, -1.5014, -1.4672,  ..., -1.0904, -0.9192, -0.9020]],\n",
            "\n",
            "        [[ 0.3102,  0.4153,  0.4503,  ..., -1.5630, -1.5980, -1.5980],\n",
            "         [ 0.3102,  0.3627,  0.4153,  ..., -1.5980, -1.5805, -1.5805],\n",
            "         [ 0.3452,  0.3627,  0.3803,  ..., -1.5980, -1.5455, -1.5630],\n",
            "         ...,\n",
            "         [-1.6856, -1.6681, -1.5805,  ..., -1.2829, -1.2654, -1.3704],\n",
            "         [-1.6506, -1.6331, -1.5805,  ..., -1.3529, -1.2129, -1.2829],\n",
            "         [-1.5805, -1.6155, -1.5805,  ..., -1.3880, -1.1779, -1.1429]],\n",
            "\n",
            "        [[ 0.1651,  0.2522,  0.2871,  ..., -1.4733, -1.5081, -1.5256],\n",
            "         [ 0.1825,  0.2173,  0.2871,  ..., -1.5256, -1.5081, -1.4907],\n",
            "         [ 0.2348,  0.2173,  0.2696,  ..., -1.5081, -1.4733, -1.4733],\n",
            "         ...,\n",
            "         [-1.5953, -1.5779, -1.4733,  ..., -1.2641, -1.1944, -1.3687],\n",
            "         [-1.5779, -1.5430, -1.4907,  ..., -1.2990, -1.1770, -1.2641],\n",
            "         [-1.5081, -1.5430, -1.5081,  ..., -1.3687, -1.1770, -1.1421]]])\n"
          ]
        },
        {
          "output_type": "error",
          "ename": "TypeError",
          "evalue": "ignored",
          "traceback": [
            "\u001b[0;31m---------------------------------------------------------------------------\u001b[0m",
            "\u001b[0;31mTypeError\u001b[0m                                 Traceback (most recent call last)",
            "\u001b[0;32m<ipython-input-9-934eafe7e9b3>\u001b[0m in \u001b[0;36m<cell line: 3>\u001b[0;34m()\u001b[0m\n\u001b[1;32m      1\u001b[0m \u001b[0mimg\u001b[0m \u001b[0;34m=\u001b[0m \u001b[0mImage\u001b[0m\u001b[0;34m.\u001b[0m\u001b[0mopen\u001b[0m\u001b[0;34m(\u001b[0m\u001b[0;34m'/content/0.png'\u001b[0m\u001b[0;34m)\u001b[0m\u001b[0;34m\u001b[0m\u001b[0;34m\u001b[0m\u001b[0m\n\u001b[1;32m      2\u001b[0m \u001b[0;34m\u001b[0m\u001b[0m\n\u001b[0;32m----> 3\u001b[0;31m \u001b[0mtest_model\u001b[0m\u001b[0;34m(\u001b[0m\u001b[0mimg\u001b[0m\u001b[0;34m)\u001b[0m\u001b[0;34m\u001b[0m\u001b[0;34m\u001b[0m\u001b[0m\n\u001b[0m",
            "\u001b[0;32m/usr/local/lib/python3.10/dist-packages/torch/nn/modules/module.py\u001b[0m in \u001b[0;36m_call_impl\u001b[0;34m(self, *args, **kwargs)\u001b[0m\n\u001b[1;32m   1499\u001b[0m                 \u001b[0;32mor\u001b[0m \u001b[0m_global_backward_pre_hooks\u001b[0m \u001b[0;32mor\u001b[0m \u001b[0m_global_backward_hooks\u001b[0m\u001b[0;34m\u001b[0m\u001b[0;34m\u001b[0m\u001b[0m\n\u001b[1;32m   1500\u001b[0m                 or _global_forward_hooks or _global_forward_pre_hooks):\n\u001b[0;32m-> 1501\u001b[0;31m             \u001b[0;32mreturn\u001b[0m \u001b[0mforward_call\u001b[0m\u001b[0;34m(\u001b[0m\u001b[0;34m*\u001b[0m\u001b[0margs\u001b[0m\u001b[0;34m,\u001b[0m \u001b[0;34m**\u001b[0m\u001b[0mkwargs\u001b[0m\u001b[0;34m)\u001b[0m\u001b[0;34m\u001b[0m\u001b[0;34m\u001b[0m\u001b[0m\n\u001b[0m\u001b[1;32m   1502\u001b[0m         \u001b[0;31m# Do not call functions when jit is used\u001b[0m\u001b[0;34m\u001b[0m\u001b[0;34m\u001b[0m\u001b[0m\n\u001b[1;32m   1503\u001b[0m         \u001b[0mfull_backward_hooks\u001b[0m\u001b[0;34m,\u001b[0m \u001b[0mnon_full_backward_hooks\u001b[0m \u001b[0;34m=\u001b[0m \u001b[0;34m[\u001b[0m\u001b[0;34m]\u001b[0m\u001b[0;34m,\u001b[0m \u001b[0;34m[\u001b[0m\u001b[0;34m]\u001b[0m\u001b[0;34m\u001b[0m\u001b[0;34m\u001b[0m\u001b[0m\n",
            "\u001b[0;32m<ipython-input-8-c7bb763c219d>\u001b[0m in \u001b[0;36mforward\u001b[0;34m(self, x)\u001b[0m\n\u001b[1;32m     17\u001b[0m     \u001b[0mx\u001b[0m \u001b[0;34m=\u001b[0m \u001b[0mself\u001b[0m\u001b[0;34m.\u001b[0m\u001b[0mtf\u001b[0m\u001b[0;34m(\u001b[0m\u001b[0mx\u001b[0m\u001b[0;34m)\u001b[0m\u001b[0;34m\u001b[0m\u001b[0;34m\u001b[0m\u001b[0m\n\u001b[1;32m     18\u001b[0m     \u001b[0mprint\u001b[0m\u001b[0;34m(\u001b[0m\u001b[0mx\u001b[0m\u001b[0;34m)\u001b[0m\u001b[0;34m\u001b[0m\u001b[0;34m\u001b[0m\u001b[0m\n\u001b[0;32m---> 19\u001b[0;31m     \u001b[0mx\u001b[0m \u001b[0;34m=\u001b[0m \u001b[0mmodel\u001b[0m\u001b[0;34m(\u001b[0m\u001b[0mx\u001b[0m\u001b[0;34m)\u001b[0m\u001b[0;34m\u001b[0m\u001b[0;34m\u001b[0m\u001b[0m\n\u001b[0m\u001b[1;32m     20\u001b[0m \u001b[0;34m\u001b[0m\u001b[0m\n\u001b[1;32m     21\u001b[0m     \u001b[0;32mreturn\u001b[0m \u001b[0mx\u001b[0m\u001b[0;34m\u001b[0m\u001b[0;34m\u001b[0m\u001b[0m\n",
            "\u001b[0;31mTypeError\u001b[0m: 'collections.OrderedDict' object is not callable"
          ]
        }
      ]
    },
    {
      "cell_type": "code",
      "execution_count": null,
      "metadata": {
        "id": "m_0pAkfbsYCZ"
      },
      "outputs": [],
      "source": [
        "class CelebImgDataset(Dataset) :\n",
        "    def __init__(self, file_list, transform=None, phase='train') :\n",
        "        self.file_list = file_list\n",
        "        self.transform = transform\n",
        "        self.phase = phase\n",
        "\n",
        "    def __len__(self) :\n",
        "        return len(self.file_list)\n",
        "\n",
        "\n",
        "    def __getitem__(self, idx) :\n",
        "        img_path = self.file_list[idx]\n",
        "        img = Image.open(img_path)\n",
        "        img_transformed = self.transform(img, self.phase)\n",
        "\n",
        "        animal_label = img_path.split('/')[3]\n",
        "        # celeb_lable = img_path.split('/')[4]\n",
        "\n",
        "        label=0\n",
        "        if animal_label == \"dog\" :\n",
        "            animal_label = 0\n",
        "\n",
        "        elif animal_label == 'cat' :\n",
        "            animal_label = 1\n",
        "\n",
        "        elif animal_label == 'bear' :\n",
        "            animal_label = 2\n",
        "\n",
        "        elif animal_label == 'rabbit' :\n",
        "            animal_label = 3\n",
        "\n",
        "        elif animal_label == 'dino' :\n",
        "            animal_label = 4\n",
        "\n",
        "        # one_hot = torch.zeros(5)  # 모든 원소가 0인 벡터 생성\n",
        "        # one_hot[animal_label] = 1\n",
        "\n",
        "        return img_transformed, animal_label #,celeb_lable"
      ]
    },
    {
      "cell_type": "code",
      "source": [],
      "metadata": {
        "id": "JvhVVGLwOtv5",
        "outputId": "d1171240-997d-4487-ddaf-dc7dff3f2f90",
        "colab": {
          "base_uri": "https://localhost:8080/",
          "height": 174
        }
      },
      "execution_count": null,
      "outputs": [
        {
          "output_type": "error",
          "ename": "NameError",
          "evalue": "ignored",
          "traceback": [
            "\u001b[0;31m---------------------------------------------------------------------------\u001b[0m",
            "\u001b[0;31mNameError\u001b[0m                                 Traceback (most recent call last)",
            "\u001b[0;32m<ipython-input-1-b28b5335ba08>\u001b[0m in \u001b[0;36m<cell line: 1>\u001b[0;34m()\u001b[0m\n\u001b[0;32m----> 1\u001b[0;31m \u001b[0ma\u001b[0m \u001b[0;34m=\u001b[0m \u001b[0mtorch\u001b[0m\u001b[0;34m.\u001b[0m\u001b[0mtensor\u001b[0m\u001b[0;34m(\u001b[0m\u001b[0;34m[\u001b[0m\u001b[0;36m1\u001b[0m\u001b[0;34m,\u001b[0m\u001b[0;36m2\u001b[0m\u001b[0;34m,\u001b[0m\u001b[0;36m3\u001b[0m\u001b[0;34m,\u001b[0m\u001b[0;36m4\u001b[0m\u001b[0;34m,\u001b[0m\u001b[0;36m5\u001b[0m\u001b[0;34m]\u001b[0m\u001b[0;34m)\u001b[0m\u001b[0;34m\u001b[0m\u001b[0;34m\u001b[0m\u001b[0m\n\u001b[0m",
            "\u001b[0;31mNameError\u001b[0m: name 'torch' is not defined"
          ]
        }
      ]
    },
    {
      "cell_type": "code",
      "execution_count": null,
      "metadata": {
        "id": "g0bDYkV94lg7"
      },
      "outputs": [],
      "source": [
        "images_path = [*dog_imgs, *cat_imgs, *bear_imgs, *rabbit_imgs, *dino_imgs ]\n",
        "\n",
        "random.seed(42)\n",
        "random.shuffle(images_path)"
      ]
    },
    {
      "cell_type": "code",
      "source": [
        "# file_list = images_path[0]\n",
        "\n",
        "# img_path = file_list\n",
        "# img = Image.open(img_path)\n",
        "# print(type(img)) #-> <class 'PIL.PngImagePlugin.PngImageFile'>\n",
        "# img_transformed = transform(img, 'train')"
      ],
      "metadata": {
        "id": "TxWpVK5MC8qZ"
      },
      "execution_count": null,
      "outputs": []
    },
    {
      "cell_type": "code",
      "execution_count": null,
      "metadata": {
        "id": "dWI5rzfvy-OB"
      },
      "outputs": [],
      "source": [
        "#ratio\n",
        "def split_dataset(imgs,train_ratio=0.7, val_ratio=0.15, test_ration=0.15):\n",
        "  train_idx = int(len(imgs)*train_ratio)\n",
        "  val_idx = train_idx + int(len(imgs)*val_ratio)\n",
        "\n",
        "  train_dataset = imgs[:train_idx]\n",
        "  val_dataset = imgs[train_idx:val_idx]\n",
        "  test_dataset = imgs[val_idx:]\n",
        "\n",
        "  return (train_dataset, val_dataset, test_dataset)"
      ]
    },
    {
      "cell_type": "code",
      "execution_count": null,
      "metadata": {
        "id": "ZWN7SbcyrJUR",
        "colab": {
          "base_uri": "https://localhost:8080/"
        },
        "outputId": "0bf3f737-21b3-46a6-b04e-80ae7bdc6fd8"
      },
      "outputs": [
        {
          "output_type": "stream",
          "name": "stdout",
          "text": [
            "3500 1000 500\n"
          ]
        }
      ],
      "source": [
        "train_images, val_images, test_images = split_dataset(images_path,0.7,0.2,0.1)\n",
        "\n",
        "train_dataset = CelebImgDataset(train_images, transform=ImageTransform(size, mean, std),\n",
        "                                 phase='train')\n",
        "val_dataset = CelebImgDataset(val_images, transform=ImageTransform(size, mean, std),\n",
        "                                 phase='val')\n",
        "\n",
        "print(len(train_dataset),len(val_dataset),len(test_images))"
      ]
    },
    {
      "cell_type": "code",
      "execution_count": null,
      "metadata": {
        "id": "4yDQ4qunujbJ"
      },
      "outputs": [],
      "source": [
        "train_iterator = DataLoader(train_dataset, batch_size=batch_size, shuffle=True)\n",
        "valid_iterator = DataLoader(val_dataset, batch_size=batch_size, shuffle=True)"
      ]
    },
    {
      "cell_type": "code",
      "execution_count": null,
      "metadata": {
        "id": "BmGiZ-ZGv56F"
      },
      "outputs": [],
      "source": [
        "batch_iterator = iter(train_iterator)\n",
        "inputs, label = next(batch_iterator)"
      ]
    },
    {
      "cell_type": "code",
      "execution_count": null,
      "metadata": {
        "id": "m28jUyF9wGe6",
        "colab": {
          "base_uri": "https://localhost:8080/"
        },
        "outputId": "51cb6db5-f70b-4b86-9392-98b4f84507b8"
      },
      "outputs": [
        {
          "output_type": "execute_result",
          "data": {
            "text/plain": [
              "torch.Size([32, 3, 224, 224])"
            ]
          },
          "metadata": {},
          "execution_count": 15
        }
      ],
      "source": [
        "inputs.size()"
      ]
    },
    {
      "cell_type": "code",
      "execution_count": null,
      "metadata": {
        "id": "D4-xn6WMpSs5",
        "colab": {
          "base_uri": "https://localhost:8080/",
          "height": 471
        },
        "outputId": "6ab22fdd-e925-4c21-b067-88dbe2abd442"
      },
      "outputs": [
        {
          "output_type": "stream",
          "name": "stderr",
          "text": [
            "WARNING:matplotlib.image:Clipping input data to the valid range for imshow with RGB data ([0..1] for floats or [0..255] for integers).\n"
          ]
        },
        {
          "output_type": "stream",
          "name": "stdout",
          "text": [
            "0\n"
          ]
        },
        {
          "output_type": "display_data",
          "data": {
            "text/plain": [
              "<Figure size 640x480 with 1 Axes>"
            ],
            "image/png": "[encoded data removed]"
          },
          "metadata": {}
        }
      ],
      "source": [
        "index = 68\n",
        "print(train_dataset.__getitem__(index)[1])\n",
        "# print(train_dataset.__getitem__(index)[2])\n",
        "plt.imshow(train_dataset.__getitem__(index)[0].permute(1,2,0))\n",
        "plt.show()"
      ]
    },
    {
      "cell_type": "code",
      "execution_count": null,
      "metadata": {
        "id": "Tc7w4-C-X3_5"
      },
      "outputs": [],
      "source": [
        "class Bottleneck(nn.Module) :\n",
        "    expansion = 4 # 병목 블록을 정의하기 위한 하이퍼파라미터\n",
        "\n",
        "    def __init__(self, in_channels, out_channels, stride=1, downsample=False) :\n",
        "        super().__init__()\n",
        "        self.conv1 = nn.Conv2d(in_channels, out_channels, kernel_size=1,\n",
        "                              stride=1, bias=False) # 1x1 합성곱층\n",
        "        self.bn1 = nn.BatchNorm2d(out_channels)\n",
        "        self.conv2 = nn.Conv2d(out_channels, out_channels, kernel_size=3,\n",
        "                              stride=stride, padding=1, bias=False)\n",
        "\n",
        "        self.bn2 = nn.BatchNorm2d(out_channels)\n",
        "        self.conv2 = nn.Conv2d(out_channels, out_channels, kernel_size=3,\n",
        "                              stride=stride, padding=1, bias=False)\n",
        "        self.conv3 = nn.Conv2d(out_channels, self.expansion * out_channels,\n",
        "                               kernel_size=1, stride=1, bias=False)\n",
        "        self.bn3 = nn.BatchNorm2d(self.expansion*out_channels)\n",
        "        self.relu = nn.ReLU(inplace=True)\n",
        "\n",
        "        if downsample :\n",
        "            conv = nn.Conv2d(in_channels, self.expansion*out_channels, kernel_size=1,\n",
        "                            stride=stride, bias=False)\n",
        "            bn = nn.BatchNorm2d(self.expansion*out_channels)\n",
        "            downsample = nn.Sequential(conv, bn)\n",
        "        else :\n",
        "            downsample = None\n",
        "\n",
        "        self.downsample = downsample\n",
        "\n",
        "    def forward(self, x) :\n",
        "        i = x\n",
        "        x = self.conv1(x)\n",
        "        x = self.bn1(x)\n",
        "        x = self.relu(x)\n",
        "        x = self.conv2(x)\n",
        "        x = self.bn2(x)\n",
        "        x = self.relu(x)\n",
        "        x = self.conv3(x)\n",
        "        x = self.bn3(x)\n",
        "\n",
        "        if self.downsample is not None :\n",
        "            i = self.downsample(i)\n",
        "\n",
        "        x += i\n",
        "        x = self.relu(x)\n",
        "\n",
        "        return x"
      ]
    },
    {
      "cell_type": "code",
      "execution_count": null,
      "metadata": {
        "id": "R6UVluVDudqh"
      },
      "outputs": [],
      "source": [
        "class BasicBlock(nn.Module) :\n",
        "    expansion = 1\n",
        "\n",
        "    def __init__(self, in_channels, out_channels, stride=1, downsample=False) :\n",
        "        super().__init__()\n",
        "        self.conv1 = nn.Conv2d(in_channels, out_channels, kernel_size=3,\n",
        "                              stride=stride, padding=1, bias=False)\n",
        "        self.bn1 = nn.BatchNorm2d(out_channels)\n",
        "        self.conv2 = nn.Conv2d(out_channels, out_channels, kernel_size=3,\n",
        "                              stride=1, padding=1, bias=False)\n",
        "        self.bn2 = nn.BatchNorm2d(out_channels)\n",
        "        self.relu = nn.ReLU(inplace=True)\n",
        "\n",
        "        if downsample : # 다운샘플이 적용되는 부분(출력 데이터크기가 다를 경우 사용)\n",
        "            conv = nn.Conv2d(in_channels, out_channels, kernel_size=1,\n",
        "                            stride=stride, bias=False)\n",
        "\n",
        "            bn = nn.BatchNorm2d(out_channels)\n",
        "            downsample = nn.Sequential(conv, bn)\n",
        "\n",
        "        else :\n",
        "            downsample = None\n",
        "        self.downsample = downsample\n",
        "\n",
        "    def forward(self, x) :\n",
        "        i = x\n",
        "        x = self.conv1(x)\n",
        "        x = self.bn1(x)\n",
        "        x = self.relu(x)\n",
        "        x = self.conv2(x)\n",
        "        x = self.bn2(x)\n",
        "\n",
        "        if self.downsample is not None :\n",
        "            i = self.downsample(i)\n",
        "\n",
        "        x += i # identity mapping\n",
        "        x = self.relu(x)\n",
        "\n",
        "        return x"
      ]
    },
    {
      "cell_type": "code",
      "execution_count": null,
      "metadata": {
        "id": "OteI0QLNgfAk"
      },
      "outputs": [],
      "source": [
        "class ResNet(nn.Module) :\n",
        "   def __init__(self, config, output_dim, zero_init_residual=False) :\n",
        "       super().__init__()\n",
        "\n",
        "       block, n_blocks, channels = config\n",
        "       self.in_channels = channels[0]\n",
        "      #  assert len(n_blocks) == len(channels) == 4\n",
        "\n",
        "       self.conv1 = nn.Conv2d(3, self.in_channels, kernel_size=7, stride=2,\n",
        "                             padding=3, bias=False)\n",
        "       self.bn1 = nn.BatchNorm2d(self.in_channels)\n",
        "       self.relu = nn.ReLU(inplace=True)\n",
        "       self.maxpool = nn.MaxPool2d(kernel_size=3, stride=2, padding=1)\n",
        "\n",
        "       self.layer1 = self.get_resnet_layer(block, n_blocks[0], channels[0])\n",
        "       self.layer2 = self.get_resnet_layer(block, n_blocks[1], channels[1], stride=2)\n",
        "       self.layer3 = self.get_resnet_layer(block, n_blocks[1], channels[2], stride=2)\n",
        "       self.layer4 = self.get_resnet_layer(block, n_blocks[1], channels[3], stride=2)\n",
        "\n",
        "       self.avgpool = nn.AdaptiveAvgPool2d((1, 1))\n",
        "       self.fc = nn.Linear(self.in_channels, output_dim)\n",
        "\n",
        "\n",
        "       if zero_init_residual :\n",
        "           for m in self.modules() :\n",
        "               if isinstance(m, Bottleneck) :\n",
        "                   nn.init.constant_(m.bn3.weight, 0)\n",
        "               elif isinstance(m, BasicBlock) :\n",
        "                   nn.init.constant_(m.bn2.weight, 0)\n",
        "\n",
        "   def get_resnet_layer(self, block, n_blocks, channels, stride=1) :\n",
        "       layers = []\n",
        "       if self.in_channels != block.expansion * channels :\n",
        "           downsample = True\n",
        "       else :\n",
        "           downsample = False\n",
        "\n",
        "       layers.append(block(self.in_channels, channels, stride, downsample))\n",
        "\n",
        "       for i in range(1, n_blocks) :\n",
        "           layers.append(block(block.expansion*channels, channels))\n",
        "\n",
        "       self.in_channels = block.expansion * channels\n",
        "       return nn.Sequential(*layers)\n",
        "\n",
        "\n",
        "   def forward(self, x) :\n",
        "       x = self.conv1(x)\n",
        "       x = self.bn1(x)\n",
        "       x = self.relu(x)\n",
        "       x = self.maxpool(x)\n",
        "       x = self.layer1(x)\n",
        "       x = self.layer2(x)\n",
        "       x = self.layer3(x)\n",
        "       x = self.layer4(x)\n",
        "       x = self.avgpool(x)\n",
        "       h = x.view(x.shape[0], -1)\n",
        "       x = self.fc(h)\n",
        "       return x, h\n",
        "\n",
        "ResNetConfig = namedtuple('ResNetConfig', ['block', 'n_blocks', 'channels'])"
      ]
    },
    {
      "cell_type": "code",
      "source": [
        "resnet18_config = ResNetConfig(block=BasicBlock,\n",
        "                             n_blocks=[2, 2, 2, 2,],\n",
        "                             channels=[64, 128, 256, 512])\n",
        "output_dim = 5\n",
        "model = ResNet(resnet18_config, output_dim)\n",
        "\n"
      ],
      "metadata": {
        "id": "XYShSUM-Yyzr"
      },
      "execution_count": null,
      "outputs": []
    },
    {
      "cell_type": "code",
      "execution_count": null,
      "metadata": {
        "id": "0U_GZRf5gfuq"
      },
      "outputs": [],
      "source": [
        "resnet18_config = ResNetConfig(block=BasicBlock,\n",
        "                             n_blocks=[2, 2, 2, 2,],\n",
        "                             channels=[64, 128, 256, 512])\n",
        "\n",
        "resnet34_config = ResNetConfig(block=BasicBlock,\n",
        "                             n_blocks=[3, 4, 6, 3,],\n",
        "                             channels=[64, 128, 256, 512])\n",
        "\n",
        "resnet50_config = ResNetConfig(block=Bottleneck,\n",
        "                             n_blocks=[3, 4, 6, 3],\n",
        "                             channels=[64,128,256,512])\n",
        "\n",
        "resnet152_config = ResNetConfig(block=Bottleneck,\n",
        "                              n_blocks=[3,8,36,3],\n",
        "                              channels=[64,128,256,512])"
      ]
    },
    {
      "cell_type": "code",
      "execution_count": null,
      "metadata": {
        "id": "wxTdq1LRkUO5"
      },
      "outputs": [],
      "source": [
        "def calculate_topk_accuracy(y_pred, y, k=2) :\n",
        "    with torch.no_grad() :\n",
        "        batch_size = y.shape[0]\n",
        "        _, top_pred = y_pred.topk(k, 1)\n",
        "        top_pred = top_pred.t()\n",
        "        correct = top_pred.eq(y.view(1, -1).expand_as(top_pred))\n",
        "        correct_1 =    correct[:1].reshape(-1).float().sum(0, keepdim=True)\n",
        "        correct_k = correct[:k].reshape(-1).float().sum(0, keepdim=True)\n",
        "        acc_1 = correct_1 / batch_size\n",
        "        acc_k = correct_k / batch_size\n",
        "\n",
        "    return acc_1, acc_k"
      ]
    },
    {
      "cell_type": "code",
      "execution_count": null,
      "metadata": {
        "id": "oyYoPlAEkUQ0"
      },
      "outputs": [],
      "source": [
        "\n",
        "def train(model, iterator, optimizer, criterion, device) :\n",
        "    epoch_loss = 0\n",
        "    epoch_acc_1 = 0\n",
        "    epoch_acc_5 = 0\n",
        "    model.train()\n",
        "    for (x, y) in iterator :\n",
        "        x = x.to(device)\n",
        "        y = y.to(device)\n",
        "\n",
        "        optimizer.zero_grad()\n",
        "        y_pred = model(x)\n",
        "        loss = criterion(y_pred[0], y)\n",
        "\n",
        "        acc_1, acc_5 = calculate_topk_accuracy(y_pred[0], y)\n",
        "        loss.backward()\n",
        "        optimizer.step()\n",
        "\n",
        "        epoch_loss += loss.item()\n",
        "        epoch_acc_1 += acc_1.item()\n",
        "        epoch_acc_5 += acc_5.item()\n",
        "\n",
        "    epoch_loss /= len(iterator)\n",
        "    epoch_acc_1 /= len(iterator)\n",
        "    epoch_acc_5 /= len(iterator)\n",
        "\n",
        "    return epoch_loss, epoch_acc_1, epoch_acc_5"
      ]
    },
    {
      "cell_type": "code",
      "execution_count": null,
      "metadata": {
        "id": "r8Jc2tf6kb7j"
      },
      "outputs": [],
      "source": [
        "def evaluate(model, iterator, criterion, device) :\n",
        "    epoch_loss = 0\n",
        "    epoch_acc_1 = 0\n",
        "    epoch_acc_5 = 0\n",
        "\n",
        "    model.eval()\n",
        "    with torch.no_grad() :\n",
        "        for (x, y) in iterator :\n",
        "            x = x.to(device)\n",
        "            y = y.to(device)\n",
        "            y_pred = model(x)\n",
        "            loss = criterion(y_pred[0], y)\n",
        "            acc_1, acc_5 = calculate_topk_accuracy(y_pred[0], y)\n",
        "            epoch_loss += loss.item()\n",
        "            epoch_acc_1 += acc_1.item()\n",
        "            epoch_acc_5 += acc_5.item()\n",
        "\n",
        "        epoch_loss /=len(iterator)\n",
        "        epoch_acc_1 /= len(iterator)\n",
        "        epoch_acc_5 /= len(iterator)\n",
        "\n",
        "        return epoch_loss, epoch_acc_1, epoch_acc_5"
      ]
    },
    {
      "cell_type": "code",
      "execution_count": null,
      "metadata": {
        "id": "seQN1l4YkdPc"
      },
      "outputs": [],
      "source": [
        "def epoch_time(start_time, end_time) :\n",
        "    elapsed_time = end_time - start_time\n",
        "    elapsed_mins = int(elapsed_time / 60)\n",
        "    elapsed_secs = int(elapsed_time - (elapsed_mins * 60))\n",
        "    return elapsed_mins, elapsed_secs"
      ]
    },
    {
      "cell_type": "code",
      "execution_count": null,
      "metadata": {
        "id": "xZvdSWLcg3DG"
      },
      "outputs": [],
      "source": [
        "output_dim = 5\n",
        "model = ResNet(resnet18_config, output_dim)\n",
        "# print(model)\n",
        "# optimizer = optim.Adam(model.parameters(), lr=1e-7)\n",
        "criterion = nn.CrossEntropyLoss()\n",
        "\n",
        "device = torch.device('cuda' if torch.cuda.is_available() else 'cpu')\n",
        "model = model.to(device)\n",
        "criterion = criterion.to(device)"
      ]
    },
    {
      "cell_type": "code",
      "source": [
        "train_acc1_list,train_acc5_list, train_loss_list = [],[],[]\n",
        "valid_acc1_list,valid_acc5_list, valid_loss_list = [],[],[]\n",
        "optimizer = optim.Adam(model.parameters(), lr=1e-3)\n",
        "best_valid_loss = float('inf')"
      ],
      "metadata": {
        "id": "fkrbVbpygFWw"
      },
      "execution_count": null,
      "outputs": []
    },
    {
      "cell_type": "code",
      "execution_count": null,
      "metadata": {
        "id": "tiPk2rXcke2s",
        "colab": {
          "base_uri": "https://localhost:8080/"
        },
        "outputId": "75b55997-9a96-48ee-eeee-71389f557cee"
      },
      "outputs": [
        {
          "output_type": "stream",
          "name": "stdout",
          "text": [
            "Epoch : 01 | Epoch Time : 0m 40s\n",
            "\tTrain Loss : 1.655 | Train Acc @1 :  27.02% | Train Acc @5 :  48.45%\n",
            "\tValid Loss : 1.727 | Valid Acc @1 :  26.76% | Valid Acc @5 :  48.63%\n",
            "Epoch : 02 | Epoch Time : 0m 35s\n",
            "\tTrain Loss : 1.592 | Train Acc @1 :  28.83% | Train Acc @5 :  49.35%\n",
            "\tValid Loss : 1.578 | Valid Acc @1 :  27.25% | Valid Acc @5 :  48.05%\n",
            "Epoch : 03 | Epoch Time : 0m 33s\n",
            "\tTrain Loss : 1.619 | Train Acc @1 :  27.02% | Train Acc @5 :  48.18%\n",
            "\tValid Loss : 1.700 | Valid Acc @1 :  23.63% | Valid Acc @5 :  43.46%\n",
            "Epoch : 04 | Epoch Time : 0m 32s\n",
            "\tTrain Loss : 1.569 | Train Acc @1 :  28.65% | Train Acc @5 :  50.20%\n",
            "\tValid Loss : 1.579 | Valid Acc @1 :  29.88% | Valid Acc @5 :  52.64%\n",
            "Epoch : 05 | Epoch Time : 0m 33s\n",
            "\tTrain Loss : 1.555 | Train Acc @1 :  29.56% | Train Acc @5 :  52.88%\n",
            "\tValid Loss : 1.528 | Valid Acc @1 :  31.74% | Valid Acc @5 :  52.93%\n",
            "Epoch : 06 | Epoch Time : 0m 32s\n",
            "\tTrain Loss : 1.544 | Train Acc @1 :  31.00% | Train Acc @5 :  52.94%\n",
            "\tValid Loss : 1.528 | Valid Acc @1 :  31.05% | Valid Acc @5 :  53.81%\n",
            "Epoch : 07 | Epoch Time : 0m 33s\n",
            "\tTrain Loss : 1.533 | Train Acc @1 :  32.07% | Train Acc @5 :  54.37%\n",
            "\tValid Loss : 1.545 | Valid Acc @1 :  29.98% | Valid Acc @5 :  54.10%\n",
            "Epoch : 08 | Epoch Time : 0m 33s\n",
            "\tTrain Loss : 1.542 | Train Acc @1 :  31.40% | Train Acc @5 :  53.37%\n",
            "\tValid Loss : 1.542 | Valid Acc @1 :  31.64% | Valid Acc @5 :  54.69%\n",
            "Epoch : 09 | Epoch Time : 0m 33s\n",
            "\tTrain Loss : 1.511 | Train Acc @1 :  32.63% | Train Acc @5 :  56.88%\n",
            "\tValid Loss : 1.513 | Valid Acc @1 :  32.32% | Valid Acc @5 :  54.88%\n",
            "Epoch : 10 | Epoch Time : 0m 34s\n",
            "\tTrain Loss : 1.508 | Train Acc @1 :  33.96% | Train Acc @5 :  57.20%\n",
            "\tValid Loss : 1.639 | Valid Acc @1 :  28.61% | Valid Acc @5 :  52.44%\n",
            "Epoch : 11 | Epoch Time : 0m 33s\n",
            "\tTrain Loss : 1.491 | Train Acc @1 :  35.08% | Train Acc @5 :  57.62%\n",
            "\tValid Loss : 1.569 | Valid Acc @1 :  30.18% | Valid Acc @5 :  53.52%\n",
            "Epoch : 12 | Epoch Time : 0m 33s\n",
            "\tTrain Loss : 1.468 | Train Acc @1 :  36.54% | Train Acc @5 :  61.38%\n",
            "\tValid Loss : 1.685 | Valid Acc @1 :  35.84% | Valid Acc @5 :  56.93%\n",
            "Epoch : 13 | Epoch Time : 0m 33s\n",
            "\tTrain Loss : 1.436 | Train Acc @1 :  39.95% | Train Acc @5 :  63.46%\n",
            "\tValid Loss : 1.471 | Valid Acc @1 :  38.77% | Valid Acc @5 :  61.33%\n",
            "Epoch : 14 | Epoch Time : 0m 33s\n",
            "\tTrain Loss : 1.422 | Train Acc @1 :  40.39% | Train Acc @5 :  63.18%\n",
            "\tValid Loss : 1.408 | Valid Acc @1 :  42.77% | Valid Acc @5 :  65.82%\n",
            "Epoch : 15 | Epoch Time : 0m 34s\n",
            "\tTrain Loss : 1.372 | Train Acc @1 :  43.27% | Train Acc @5 :  66.43%\n",
            "\tValid Loss : 1.364 | Valid Acc @1 :  43.36% | Valid Acc @5 :  69.63%\n",
            "Epoch : 16 | Epoch Time : 0m 33s\n",
            "\tTrain Loss : 1.340 | Train Acc @1 :  45.62% | Train Acc @5 :  68.41%\n",
            "\tValid Loss : 1.269 | Valid Acc @1 :  47.56% | Valid Acc @5 :  71.88%\n",
            "Epoch : 17 | Epoch Time : 0m 33s\n",
            "\tTrain Loss : 1.322 | Train Acc @1 :  45.33% | Train Acc @5 :  69.07%\n",
            "\tValid Loss : 1.471 | Valid Acc @1 :  39.94% | Valid Acc @5 :  62.99%\n",
            "Epoch : 18 | Epoch Time : 0m 33s\n",
            "\tTrain Loss : 1.297 | Train Acc @1 :  47.35% | Train Acc @5 :  70.41%\n",
            "\tValid Loss : 1.350 | Valid Acc @1 :  46.00% | Valid Acc @5 :  67.09%\n",
            "Epoch : 19 | Epoch Time : 0m 32s\n",
            "\tTrain Loss : 1.272 | Train Acc @1 :  48.35% | Train Acc @5 :  72.64%\n",
            "\tValid Loss : 1.521 | Valid Acc @1 :  43.46% | Valid Acc @5 :  64.65%\n",
            "Epoch : 20 | Epoch Time : 0m 33s\n",
            "\tTrain Loss : 1.245 | Train Acc @1 :  49.43% | Train Acc @5 :  72.81%\n",
            "\tValid Loss : 1.583 | Valid Acc @1 :  37.99% | Valid Acc @5 :  63.57%\n",
            "Epoch : 21 | Epoch Time : 0m 32s\n",
            "\tTrain Loss : 1.210 | Train Acc @1 :  51.94% | Train Acc @5 :  74.15%\n",
            "\tValid Loss : 1.199 | Valid Acc @1 :  51.27% | Valid Acc @5 :  74.80%\n",
            "Epoch : 22 | Epoch Time : 0m 32s\n",
            "\tTrain Loss : 1.188 | Train Acc @1 :  51.75% | Train Acc @5 :  74.94%\n",
            "\tValid Loss : 1.340 | Valid Acc @1 :  48.05% | Valid Acc @5 :  73.54%\n",
            "Epoch : 23 | Epoch Time : 0m 33s\n",
            "\tTrain Loss : 1.154 | Train Acc @1 :  54.80% | Train Acc @5 :  76.80%\n",
            "\tValid Loss : 1.196 | Valid Acc @1 :  52.83% | Valid Acc @5 :  75.10%\n",
            "Epoch : 24 | Epoch Time : 0m 32s\n",
            "\tTrain Loss : 1.132 | Train Acc @1 :  55.76% | Train Acc @5 :  76.72%\n",
            "\tValid Loss : 1.232 | Valid Acc @1 :  53.61% | Valid Acc @5 :  74.12%\n",
            "Epoch : 25 | Epoch Time : 0m 33s\n",
            "\tTrain Loss : 1.100 | Train Acc @1 :  57.19% | Train Acc @5 :  77.83%\n",
            "\tValid Loss : 1.097 | Valid Acc @1 :  57.71% | Valid Acc @5 :  79.59%\n",
            "Epoch : 26 | Epoch Time : 0m 33s\n",
            "\tTrain Loss : 1.047 | Train Acc @1 :  59.34% | Train Acc @5 :  80.48%\n",
            "\tValid Loss : 1.174 | Valid Acc @1 :  52.73% | Valid Acc @5 :  76.76%\n",
            "Epoch : 27 | Epoch Time : 0m 33s\n",
            "\tTrain Loss : 1.027 | Train Acc @1 :  60.27% | Train Acc @5 :  81.19%\n",
            "\tValid Loss : 1.016 | Valid Acc @1 :  60.64% | Valid Acc @5 :  79.69%\n",
            "Epoch : 28 | Epoch Time : 0m 33s\n",
            "\tTrain Loss : 0.978 | Train Acc @1 :  61.70% | Train Acc @5 :  82.73%\n",
            "\tValid Loss : 0.973 | Valid Acc @1 :  62.50% | Valid Acc @5 :  82.13%\n",
            "Epoch : 29 | Epoch Time : 0m 32s\n",
            "\tTrain Loss : 0.948 | Train Acc @1 :  63.43% | Train Acc @5 :  82.88%\n",
            "\tValid Loss : 0.927 | Valid Acc @1 :  65.04% | Valid Acc @5 :  83.20%\n",
            "Epoch : 30 | Epoch Time : 0m 33s\n",
            "\tTrain Loss : 0.886 | Train Acc @1 :  66.66% | Train Acc @5 :  84.43%\n",
            "\tValid Loss : 0.966 | Valid Acc @1 :  64.26% | Valid Acc @5 :  85.25%\n",
            "Epoch : 31 | Epoch Time : 0m 33s\n",
            "\tTrain Loss : 0.868 | Train Acc @1 :  67.41% | Train Acc @5 :  85.22%\n",
            "\tValid Loss : 1.078 | Valid Acc @1 :  59.38% | Valid Acc @5 :  80.96%\n",
            "Epoch : 32 | Epoch Time : 0m 32s\n",
            "\tTrain Loss : 0.824 | Train Acc @1 :  69.16% | Train Acc @5 :  86.16%\n",
            "\tValid Loss : 1.026 | Valid Acc @1 :  64.16% | Valid Acc @5 :  81.45%\n",
            "Epoch : 33 | Epoch Time : 0m 34s\n",
            "\tTrain Loss : 0.813 | Train Acc @1 :  69.34% | Train Acc @5 :  86.91%\n",
            "\tValid Loss : 0.858 | Valid Acc @1 :  67.09% | Valid Acc @5 :  85.94%\n",
            "Epoch : 34 | Epoch Time : 0m 33s\n",
            "\tTrain Loss : 0.747 | Train Acc @1 :  72.22% | Train Acc @5 :  88.34%\n",
            "\tValid Loss : 0.835 | Valid Acc @1 :  69.04% | Valid Acc @5 :  87.70%\n",
            "Epoch : 35 | Epoch Time : 0m 33s\n",
            "\tTrain Loss : 0.738 | Train Acc @1 :  72.24% | Train Acc @5 :  88.45%\n",
            "\tValid Loss : 0.861 | Valid Acc @1 :  68.46% | Valid Acc @5 :  86.52%\n",
            "Epoch : 36 | Epoch Time : 0m 33s\n",
            "\tTrain Loss : 0.706 | Train Acc @1 :  73.06% | Train Acc @5 :  89.00%\n",
            "\tValid Loss : 0.758 | Valid Acc @1 :  71.09% | Valid Acc @5 :  88.77%\n",
            "Epoch : 37 | Epoch Time : 0m 32s\n",
            "\tTrain Loss : 0.652 | Train Acc @1 :  75.40% | Train Acc @5 :  89.98%\n",
            "\tValid Loss : 0.869 | Valid Acc @1 :  68.16% | Valid Acc @5 :  86.23%\n",
            "Epoch : 38 | Epoch Time : 0m 33s\n",
            "\tTrain Loss : 0.638 | Train Acc @1 :  76.31% | Train Acc @5 :  90.38%\n",
            "\tValid Loss : 0.645 | Valid Acc @1 :  75.49% | Valid Acc @5 :  89.75%\n",
            "Epoch : 39 | Epoch Time : 0m 32s\n",
            "\tTrain Loss : 0.600 | Train Acc @1 :  78.26% | Train Acc @5 :  91.33%\n",
            "\tValid Loss : 0.824 | Valid Acc @1 :  69.04% | Valid Acc @5 :  89.36%\n",
            "Epoch : 40 | Epoch Time : 0m 32s\n",
            "\tTrain Loss : 0.618 | Train Acc @1 :  76.48% | Train Acc @5 :  91.40%\n",
            "\tValid Loss : 0.743 | Valid Acc @1 :  72.95% | Valid Acc @5 :  90.62%\n",
            "Epoch : 41 | Epoch Time : 0m 33s\n",
            "\tTrain Loss : 0.549 | Train Acc @1 :  79.60% | Train Acc @5 :  92.28%\n",
            "\tValid Loss : 0.671 | Valid Acc @1 :  75.49% | Valid Acc @5 :  90.43%\n",
            "Epoch : 42 | Epoch Time : 0m 32s\n",
            "\tTrain Loss : 0.560 | Train Acc @1 :  79.08% | Train Acc @5 :  91.85%\n",
            "\tValid Loss : 0.731 | Valid Acc @1 :  74.02% | Valid Acc @5 :  89.55%\n",
            "Epoch : 43 | Epoch Time : 0m 33s\n",
            "\tTrain Loss : 0.522 | Train Acc @1 :  80.83% | Train Acc @5 :  92.61%\n",
            "\tValid Loss : 0.639 | Valid Acc @1 :  78.22% | Valid Acc @5 :  90.53%\n",
            "Epoch : 44 | Epoch Time : 0m 33s\n",
            "\tTrain Loss : 0.520 | Train Acc @1 :  80.61% | Train Acc @5 :  93.31%\n",
            "\tValid Loss : 0.784 | Valid Acc @1 :  71.97% | Valid Acc @5 :  90.23%\n",
            "Epoch : 45 | Epoch Time : 0m 32s\n",
            "\tTrain Loss : 0.481 | Train Acc @1 :  81.96% | Train Acc @5 :  94.15%\n",
            "\tValid Loss : 0.602 | Valid Acc @1 :  79.69% | Valid Acc @5 :  92.38%\n",
            "Epoch : 46 | Epoch Time : 0m 33s\n",
            "\tTrain Loss : 0.435 | Train Acc @1 :  83.95% | Train Acc @5 :  95.00%\n",
            "\tValid Loss : 0.764 | Valid Acc @1 :  76.56% | Valid Acc @5 :  90.53%\n",
            "Epoch : 47 | Epoch Time : 0m 32s\n",
            "\tTrain Loss : 0.456 | Train Acc @1 :  82.90% | Train Acc @5 :  94.26%\n",
            "\tValid Loss : 0.610 | Valid Acc @1 :  78.81% | Valid Acc @5 :  91.31%\n",
            "Epoch : 48 | Epoch Time : 0m 33s\n",
            "\tTrain Loss : 0.388 | Train Acc @1 :  86.01% | Train Acc @5 :  95.43%\n",
            "\tValid Loss : 0.717 | Valid Acc @1 :  76.76% | Valid Acc @5 :  91.11%\n",
            "Epoch : 49 | Epoch Time : 0m 33s\n",
            "\tTrain Loss : 0.397 | Train Acc @1 :  85.51% | Train Acc @5 :  95.62%\n",
            "\tValid Loss : 0.683 | Valid Acc @1 :  76.86% | Valid Acc @5 :  91.02%\n",
            "Epoch : 50 | Epoch Time : 0m 32s\n",
            "\tTrain Loss : 0.414 | Train Acc @1 :  84.74% | Train Acc @5 :  95.29%\n",
            "\tValid Loss : 0.616 | Valid Acc @1 :  77.64% | Valid Acc @5 :  92.77%\n",
            "Epoch : 51 | Epoch Time : 0m 33s\n",
            "\tTrain Loss : 0.373 | Train Acc @1 :  85.80% | Train Acc @5 :  95.94%\n",
            "\tValid Loss : 0.657 | Valid Acc @1 :  79.69% | Valid Acc @5 :  91.60%\n",
            "Epoch : 52 | Epoch Time : 0m 33s\n",
            "\tTrain Loss : 0.347 | Train Acc @1 :  87.27% | Train Acc @5 :  96.11%\n",
            "\tValid Loss : 0.535 | Valid Acc @1 :  82.32% | Valid Acc @5 :  92.97%\n",
            "Epoch : 53 | Epoch Time : 0m 32s\n",
            "\tTrain Loss : 0.327 | Train Acc @1 :  88.90% | Train Acc @5 :  96.28%\n",
            "\tValid Loss : 0.630 | Valid Acc @1 :  82.52% | Valid Acc @5 :  92.48%\n",
            "Epoch : 54 | Epoch Time : 0m 33s\n",
            "\tTrain Loss : 0.332 | Train Acc @1 :  88.24% | Train Acc @5 :  96.76%\n",
            "\tValid Loss : 0.595 | Valid Acc @1 :  79.59% | Valid Acc @5 :  92.29%\n",
            "Epoch : 55 | Epoch Time : 0m 32s\n",
            "\tTrain Loss : 0.326 | Train Acc @1 :  87.91% | Train Acc @5 :  96.42%\n",
            "\tValid Loss : 0.544 | Valid Acc @1 :  81.05% | Valid Acc @5 :  93.46%\n",
            "Epoch : 56 | Epoch Time : 0m 33s\n",
            "\tTrain Loss : 0.278 | Train Acc @1 :  89.41% | Train Acc @5 :  97.10%\n",
            "\tValid Loss : 0.627 | Valid Acc @1 :  79.10% | Valid Acc @5 :  91.99%\n",
            "Epoch : 57 | Epoch Time : 0m 33s\n",
            "\tTrain Loss : 0.319 | Train Acc @1 :  88.65% | Train Acc @5 :  96.83%\n",
            "\tValid Loss : 0.638 | Valid Acc @1 :  80.47% | Valid Acc @5 :  92.19%\n",
            "Epoch : 58 | Epoch Time : 0m 33s\n",
            "\tTrain Loss : 0.273 | Train Acc @1 :  89.96% | Train Acc @5 :  97.27%\n",
            "\tValid Loss : 0.530 | Valid Acc @1 :  82.52% | Valid Acc @5 :  92.77%\n",
            "Epoch : 59 | Epoch Time : 0m 34s\n",
            "\tTrain Loss : 0.277 | Train Acc @1 :  89.93% | Train Acc @5 :  97.61%\n",
            "\tValid Loss : 0.509 | Valid Acc @1 :  83.20% | Valid Acc @5 :  93.65%\n",
            "Epoch : 60 | Epoch Time : 0m 32s\n",
            "\tTrain Loss : 0.278 | Train Acc @1 :  90.27% | Train Acc @5 :  97.62%\n",
            "\tValid Loss : 0.590 | Valid Acc @1 :  81.25% | Valid Acc @5 :  93.36%\n"
          ]
        }
      ],
      "source": [
        "# 0.01 100번 -> test_accuracy :  70.93%\n",
        "\n",
        "\n",
        "epochs = 60\n",
        "\n",
        "for epoch in range(epochs) :\n",
        "  start_time = time.monotonic()\n",
        "\n",
        "  train_loss, train_acc_1, train_acc_5 = train(model, train_iterator, optimizer,\n",
        "                                              criterion, device)\n",
        "  valid_loss, valid_acc_1, valid_acc_5 = evaluate(model, valid_iterator, criterion,\n",
        "                                                device)\n",
        "\n",
        "  train_acc1_list.append(train_acc_1)\n",
        "  train_acc5_list.append(train_acc_5)\n",
        "  train_loss_list.append(train_loss)\n",
        "\n",
        "  valid_acc1_list.append(valid_acc_1)\n",
        "  valid_acc5_list.append(valid_acc_5)\n",
        "  valid_loss_list.append(valid_loss)\n",
        "\n",
        "  if valid_loss < best_valid_loss :\n",
        "      best_valid_loss = valid_loss\n",
        "      torch.save(model.state_dict(), './resnet_Model.pt')\n",
        "\n",
        "  end_time = time.monotonic()\n",
        "  epoch_mins, epoch_secs = epoch_time(start_time, end_time)\n",
        "\n",
        "\n",
        "\n",
        "\n",
        "  print(f'Epoch : {epoch+1:02} | Epoch Time : {epoch_mins}m {epoch_secs}s')\n",
        "  print(f'\\tTrain Loss : {train_loss:.3f} | Train Acc @1 : {train_acc_1*100:6.2f}% | Train Acc @5 : {train_acc_5*100:6.2f}%')\n",
        "  print(f'\\tValid Loss : {valid_loss:.3f} | Valid Acc @1 : {valid_acc_1*100:6.2f}% | Valid Acc @5 : {valid_acc_5*100:6.2f}%')\n",
        "\n",
        ""
      ]
    },
    {
      "cell_type": "code",
      "execution_count": null,
      "metadata": {
        "id": "X0JUwYiRS_Gn",
        "colab": {
          "base_uri": "https://localhost:8080/"
        },
        "outputId": "f4880e6d-0b4a-4b28-c737-bc96fd201f00"
      },
      "outputs": [
        {
          "output_type": "stream",
          "name": "stdout",
          "text": [
            "test_set_accuracy : 80.2%\n"
          ]
        }
      ],
      "source": [
        "from collections import defaultdict\n",
        "\n",
        "# int형 딕셔너리 생성\n",
        "\n",
        "import pandas as pd\n",
        "\n",
        "id_list = []\n",
        "pred_list = []\n",
        "_id = 0\n",
        "\n",
        "iter_count = 0\n",
        "cor_count = 0\n",
        "\n",
        "\n",
        "fail_table = defaultdict(int)\n",
        "animal_table = defaultdict(int)\n",
        "\n",
        "with torch.no_grad() :\n",
        "    for test_path in test_images :\n",
        "        img = Image.open(test_path)\n",
        "\n",
        "        _id = label_dict[test_path.split('/')[3]]\n",
        "        transform = ImageTransform(size, mean, std)\n",
        "        img = transform(img, phase='val')\n",
        "        img = img.unsqueeze(0)\n",
        "\n",
        "        img = img.to(device)\n",
        "\n",
        "        model.eval()\n",
        "        outputs = model(img)\n",
        "\n",
        "        preds = F.softmax(outputs[0], dim=1).argmax(dim=1)\n",
        "        id_list.append(_id)\n",
        "        pred_list.append(preds[0].item())\n",
        "\n",
        "        if preds == _id:\n",
        "          cor_count += 1\n",
        "        else:\n",
        "          i = str(preds.item())+str(_id)\n",
        "          fail_table[i] += 1\n",
        "          animal_table[_id] += 1\n",
        "        iter_count += 1\n",
        "\n",
        "print(f'test_set_accuracy : {cor_count/iter_count*100}%')\n"
      ]
    },
    {
      "cell_type": "code",
      "source": [
        "print(f'test_set')"
      ],
      "metadata": {
        "id": "tM5YzdgPuhrt",
        "colab": {
          "base_uri": "https://localhost:8080/"
        },
        "outputId": "411b0925-c9d5-49e8-da20-816a8e0186d6"
      },
      "execution_count": null,
      "outputs": [
        {
          "output_type": "stream",
          "name": "stdout",
          "text": [
            "test_set\n"
          ]
        }
      ]
    },
    {
      "cell_type": "code",
      "source": [
        "sorted_list = sorted(fail_table.items(), key=lambda x: x[1], reverse=True)\n",
        "# print(sorted_list)\n",
        "animal_table"
      ],
      "metadata": {
        "colab": {
          "base_uri": "https://localhost:8080/"
        },
        "id": "Po6CcwbT9YuN",
        "outputId": "bd32db34-7bfd-4b74-eda1-c50ddb2cc30a"
      },
      "execution_count": null,
      "outputs": [
        {
          "output_type": "execute_result",
          "data": {
            "text/plain": [
              "defaultdict(int, {0: 31, 3: 26, 4: 21, 1: 10, 2: 11})"
            ]
          },
          "metadata": {},
          "execution_count": 29
        }
      ]
    },
    {
      "cell_type": "code",
      "source": [
        "x = list(range(1, 61))\n",
        "\n",
        "# plt.plot(x, train_acc1_list, label='train_acc_1')\n",
        "# plt.plot(x, train_acc5_list, label='train_acc_5')\n",
        "plt.plot(x, train_loss_list, label='train_loss')\n",
        "# plt.plot(x, y3, label='line 3')\n",
        "\n",
        "\n",
        "# plt.plot(x, valid_acc1_list, label='valid_acc_1')\n",
        "# plt.plot(x, valid_acc5_list, label='valid_acc_5')\n",
        "plt.plot(x, valid_loss_list, label='valid_loss')\n",
        "# x, y 라벨 설정\n",
        "plt.xlabel(\"epochs\")\n",
        "plt.ylabel(\"loss\")\n",
        "\n",
        "# 그래프 타이틀 설정\n",
        "plt.title(\"Loss plot\")\n",
        "\n",
        "# 범례 표시\n",
        "plt.legend()\n",
        "\n",
        "# 그래프 표시\n",
        "plt.show()"
      ],
      "metadata": {
        "colab": {
          "base_uri": "https://localhost:8080/",
          "height": 472
        },
        "id": "jb8YNrDd_JtS",
        "outputId": "3cffa371-ab6f-4674-a6c1-479bd59576cc"
      },
      "execution_count": null,
      "outputs": [
        {
          "output_type": "display_data",
          "data": {
            "text/plain": [
              "<Figure size 640x480 with 1 Axes>"
            ],
            "image/png": "[encoded data removed]"
          },
          "metadata": {}
        }
      ]
    },
    {
      "cell_type": "code",
      "source": [
        "x = list(range(1, 101))\n",
        "\n",
        "plt.plot(x, train_acc1_list, label='line 1')\n",
        "plt.plot(x, train_acc5_list, label='line 2')\n",
        "# plt.plot(x, y3, label='line 3')\n",
        "print(train_acc1_list==train_acc5_list)\n",
        "# x, y 라벨 설정\n",
        "plt.xlabel(\"epochs\")\n",
        "plt.ylabel(\"Y-axis label\")\n",
        "\n",
        "# 그래프 타이틀 설정\n",
        "plt.title(\"Accuracy plot\")\n",
        "\n",
        "# 범례 표시\n",
        "plt.legend()\n",
        "\n",
        "# 그래프 표시\n",
        "plt.show()"
      ],
      "metadata": {
        "id": "CI5CDTTmDY7D"
      },
      "execution_count": null,
      "outputs": []
    },
    {
      "cell_type": "code",
      "source": [
        "test_img_loc = './testimg.png'\n",
        "img = Image.open(test_img_loc)\n",
        "transform = ImageTransform(size, mean, std)\n",
        "plt.show(img)\n",
        "imshow()\n",
        "img = transform(img, phase='val')\n",
        "img = img.unsqueeze(0)\n",
        "img = img.to(device)\n",
        "model.eval()\n",
        "outputs = model(img)\n",
        "print(outputs)"
      ],
      "metadata": {
        "id": "ZSaU00_t6z2F"
      },
      "execution_count": null,
      "outputs": []
    },
    {
      "cell_type": "code",
      "source": [
        "import pandas as pd\n",
        "id_list = []\n",
        "pred_list = []\n",
        "_id = 0\n",
        "\n",
        "iter_count = 0\n",
        "cor_count = 0\n",
        "\n",
        "with torch.no_grad() :\n",
        "    for test_path in test_images :\n",
        "        img = Image.open(test_path)\n",
        "        # print(test_path)\n",
        "        _id = label_dict[test_path.split('/')[3]]\n",
        "        transform = ImageTransform(size, mean, std)\n",
        "        img = transform(img, phase='val')\n",
        "        img = img.unsqueeze(0)\n",
        "\n",
        "        img = img.to(device)\n",
        "\n",
        "        model1.eval()\n",
        "        outputs = model2(img)\n",
        "        # print(outputs)\n",
        "        preds = F.softmax(outputs[0], dim=1).argmax(dim=1)\n",
        "        id_list.append(_id)\n",
        "        pred_list.append(preds[0].item())\n",
        "        # if iter_count==0:\n",
        "        #   break\n",
        "        if preds == _id:\n",
        "          cor_count += 1\n",
        "        iter_count += 1"
      ],
      "metadata": {
        "id": "cSSyCCe8f0j3"
      },
      "execution_count": null,
      "outputs": []
    },
    {
      "cell_type": "code",
      "execution_count": null,
      "metadata": {
        "id": "l67XviRr4U7Y"
      },
      "outputs": [],
      "source": [
        "print(f\"test_accuracy : {cor_count/iter_count * 100.:6.2f}%\")"
      ]
    }
  ],
  "metadata": {
    "colab": {
      "provenance": [],
      "collapsed_sections": [
        "zB1szhRFgYoZ"
      ],
      "gpuType": "T4"
    },
    "gpuClass": "standard",
    "kernelspec": {
      "display_name": "Python 3",
      "name": "python3"
    },
    "language_info": {
      "name": "python"
    },
    "accelerator": "GPU"
  },
  "nbformat": 4,
  "nbformat_minor": 0
}